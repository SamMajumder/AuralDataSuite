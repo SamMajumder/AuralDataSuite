{
  "cells": [
    {
      "cell_type": "markdown",
      "source": [
        "**INSTALLING MODULES**"
      ],
      "metadata": {
        "id": "54QfSCD3EZwb"
      }
    },
    {
      "cell_type": "code",
      "execution_count": null,
      "metadata": {
        "id": "1qft-FcPQZs4"
      },
      "outputs": [],
      "source": [
        "# Install and authenticate Google Earth Engine\n",
        "!pip install earthengine-api\n",
        "!earthengine authenticate"
      ]
    },
    {
      "cell_type": "code",
      "execution_count": null,
      "metadata": {
        "id": "Lo_G0JedpuwD"
      },
      "outputs": [],
      "source": [
        "!pip install geemap\n",
        "!pip install rasterio\n",
        "!pip install folium"
      ]
    },
    {
      "cell_type": "code",
      "execution_count": null,
      "metadata": {
        "id": "A5bsqQPVUdZr"
      },
      "outputs": [],
      "source": [
        "!pip install selenium\n",
        "!apt-get update\n",
        "!apt install -y chromium-chromedriver\n",
        "!cp /usr/lib/chromium-browser/chromedriver /usr/bin\n",
        "\n",
        "import sys\n",
        "sys.path.insert(0,'/usr/lib/chromium-browser/chromedriver')"
      ]
    },
    {
      "cell_type": "markdown",
      "source": [
        "**LOADING MODULES**"
      ],
      "metadata": {
        "id": "nKjXEsdxEejk"
      }
    },
    {
      "cell_type": "code",
      "source": [
        "# Import necessary libraries\n",
        "import ee\n",
        "import numpy as np\n",
        "import pandas as pd\n",
        "import matplotlib.pyplot as plt\n",
        "import geemap\n",
        "from PIL import Image, ImageDraw, ImageFont\n",
        "import imageio\n",
        "import os\n",
        "import rasterio\n",
        "import folium\n",
        "from folium import raster_layers\n",
        "from selenium import webdriver\n"
      ],
      "metadata": {
        "id": "oUgSBPr3wd_Z"
      },
      "execution_count": null,
      "outputs": []
    },
    {
      "cell_type": "code",
      "execution_count": null,
      "metadata": {
        "id": "TTTDnSO6Q5Um"
      },
      "outputs": [],
      "source": [
        "# Authenticate and initialize the Earth Engine API\n",
        "ee.Authenticate()\n",
        "ee.Initialize()"
      ]
    },
    {
      "cell_type": "code",
      "execution_count": null,
      "metadata": {
        "id": "dlXMs7CdRSxb"
      },
      "outputs": [],
      "source": [
        "# Define the region of interest: Sahel\n",
        "sahel_region = ee.Geometry.Polygon(\n",
        "        [[[-12, 15],\n",
        "          [-12, 21],\n",
        "          [15, 21],\n",
        "          [15, 15]]])\n",
        "\n",
        "# Define the time range\n",
        "start_year = 2000\n",
        "end_year = 2023"
      ]
    },
    {
      "cell_type": "code",
      "execution_count": null,
      "metadata": {
        "id": "uO6LtJEaRkwh"
      },
      "outputs": [],
      "source": [
        "# Function to get MODIS NDVI data for a specific year\n",
        "def get_modis_ndvi(year):\n",
        "    start_date = f\"{year}-01-01\"\n",
        "    end_date = f\"{year}-12-31\"\n",
        "\n",
        "    # Use MOD13A2.006 product for NDVI\n",
        "    dataset = ee.ImageCollection('MODIS/006/MOD13A2').filterDate(start_date, end_date).filterBounds(sahel_region)\n",
        "\n",
        "    # Extract NDVI and scale it. MODIS NDVI values are scaled by a factor of 0.0001\n",
        "    ndvi = dataset.select('NDVI').mean().multiply(0.0001)\n",
        "\n",
        "    return ndvi"
      ]
    },
    {
      "cell_type": "code",
      "execution_count": null,
      "metadata": {
        "id": "0oxwHaFMRuRr"
      },
      "outputs": [],
      "source": [
        "# Extract yearly NDVI values\n",
        "yearly_ndvi = {}\n",
        "for year in range(start_year, end_year+1):\n",
        "    ndvi_image = get_modis_ndvi(year)\n",
        "    ndvi_value = ndvi_image.reduceRegion(reducer=ee.Reducer.mean(),\n",
        "                                         geometry=sahel_region, scale=1000,\n",
        "                                         maxPixels=1e13).get('NDVI').getInfo()\n",
        "    yearly_ndvi[year] = ndvi_value"
      ]
    },
    {
      "cell_type": "code",
      "execution_count": null,
      "metadata": {
        "id": "o2sQcIM5R42q"
      },
      "outputs": [],
      "source": [
        "# Convert to DataFrame for analysis\n",
        "df = pd.DataFrame(list(yearly_ndvi.items()), columns=['Year', 'NDVI'])\n",
        "\n",
        "# Export to CSV\n",
        "df.to_csv('sahel_modis_ndvi_2000_2023.csv', index=False)\n"
      ]
    },
    {
      "cell_type": "markdown",
      "metadata": {
        "id": "LWEd0b6voaVK"
      },
      "source": [
        "**EXPORTING IMAGES, ONE FOR EACH YEAR**"
      ]
    },
    {
      "cell_type": "code",
      "execution_count": null,
      "metadata": {
        "id": "Qsi3UVS2oUVV"
      },
      "outputs": [],
      "source": [
        "\n",
        "\n",
        "# Initialize the Earth Engine module\n",
        "ee.Initialize()\n",
        "\n",
        "# Function to get MODIS NDVI data for a specific year\n",
        "def get_modis_ndvi(year):\n",
        "    start_date = f\"{year}-01-01\"\n",
        "    end_date = f\"{year}-12-31\"\n",
        "\n",
        "    # Use MOD13A2.006 product for NDVI\n",
        "    dataset = ee.ImageCollection('MODIS/006/MOD13A2').filterDate(start_date, end_date).filterBounds(sahel_region)\n",
        "\n",
        "    # Extract NDVI and scale it. MODIS NDVI values are scaled by a factor of 0.0001\n",
        "    ndvi = dataset.select('NDVI').mean().multiply(0.0001)\n",
        "\n",
        "    return ndvi\n",
        "\n",
        "# Export each yearly average NDVI image\n",
        "image_list = []\n",
        "for year in range(2000, 2024):\n",
        "    ndvi_image = get_modis_ndvi(year)\n",
        "    out_path = f'/content/NDVI_{year}.tif'\n",
        "    geemap.ee_export_image(ndvi_image, filename=out_path, scale=700, region=sahel_region, file_per_band=False)\n",
        "    image_list.append(out_path)\n",
        "\n",
        "\n"
      ]
    },
    {
      "cell_type": "markdown",
      "metadata": {
        "id": "Gcg-eEoSo7FI"
      },
      "source": [
        "**VISUALIZE SOME OF THE IMAGES USING FOLIUM**"
      ]
    },
    {
      "cell_type": "code",
      "execution_count": null,
      "metadata": {
        "id": "uDjO55zpVtKX"
      },
      "outputs": [],
      "source": [
        "\n",
        "\n",
        "# Function to overlay a GeoTIFF on a folium map\n",
        "def add_geotiff_to_map(m, img_path, colormap, vmin=-0.1, vmax=0.9, opacity=0.6):\n",
        "    with rasterio.open(img_path) as src:\n",
        "        # Get bounds of the image\n",
        "        bounds = src.bounds\n",
        "        # Read the image data\n",
        "        data = src.read(1)\n",
        "        # Normalize the data to fit within the range [0, 1]\n",
        "        norm_data = (data - vmin) / (vmax - vmin)\n",
        "        # Apply the colormap to the normalized data to get an RGB image\n",
        "        colored_data = (colormap(norm_data)[:, :, :3] * 255).astype(np.uint8)\n",
        "        # Use folium's rasters method to overlay the image on the map\n",
        "        raster_layers.ImageOverlay(\n",
        "            image=colored_data,\n",
        "            bounds=[[bounds.bottom, bounds.left], [bounds.top, bounds.right]],\n",
        "            opacity=opacity\n",
        "        ).add_to(m)\n",
        "\n",
        "# Define a colormap that transitions from yellow to red\n",
        "colormap = plt.cm.YlOrRd\n",
        "\n",
        "# Create a list to store the maps\n",
        "maps = []\n",
        "\n",
        "# Overlay the GeoTIFFs on individual maps\n",
        "for year in [2000, 2001, 2002, 2003, 2004, 2005, 2006, 2007, 2008, 2009, 2010,\n",
        "             2011, 2012, 2013, 2014, 2015, 2016, 2017, 2018, 2019, 2020, 2021,\n",
        "             2022, 2023]:\n",
        "    m = folium.Map(location=[18, 1.5], zoom_start=5, tiles='Stamen Terrain')  # Added Stamen Terrain tiles here\n",
        "    img_path = f'/content/NDVI_{year}.tif'\n",
        "    add_geotiff_to_map(m, img_path, colormap)\n",
        "    maps.append(m)\n",
        "\n",
        "# Display the maps\n",
        "for m in maps:\n",
        "    display(m)\n"
      ]
    },
    {
      "cell_type": "markdown",
      "source": [
        "**CROPPING THE IMAGES**"
      ],
      "metadata": {
        "id": "UxPyQpgVPf2T"
      }
    },
    {
      "cell_type": "code",
      "execution_count": null,
      "metadata": {
        "id": "WNavCgXqUboa"
      },
      "outputs": [],
      "source": [
        "\n",
        "\n",
        "\n",
        "\n",
        "# Function to overlay a GeoTIFF on a folium map\n",
        "def add_geotiff_to_map(m, img_path, colormap, vmin=-0.1, vmax=0.9, opacity=0.6):\n",
        "    with rasterio.open(img_path) as src:\n",
        "        bounds = src.bounds\n",
        "        data = src.read(1)\n",
        "        norm_data = (data - vmin) / (vmax - vmin)\n",
        "        colored_data = (colormap(norm_data)[:, :, :3] * 255).astype(np.uint8)\n",
        "        raster_layers.ImageOverlay(\n",
        "            image=colored_data,\n",
        "            bounds=[[bounds.bottom, bounds.left], [bounds.top, bounds.right]],\n",
        "            opacity=opacity\n",
        "        ).add_to(m)\n",
        "\n",
        "colormap = plt.cm.YlOrRd\n",
        "\n",
        "chrome_options = webdriver.ChromeOptions()\n",
        "chrome_options.add_argument('--headless')\n",
        "chrome_options.add_argument('--no-sandbox')\n",
        "chrome_options.add_argument('--disable-dev-shm-usage')\n",
        "\n",
        "def save_folium_map_as_image(m, filename, year):\n",
        "    tmp_path = \"temp_map.html\"\n",
        "    m.save(tmp_path)\n",
        "    browser = webdriver.Chrome(options=chrome_options)\n",
        "    browser.get(f\"file://{os.getcwd()}/{tmp_path}\")\n",
        "    browser.save_screenshot(filename)\n",
        "    browser.quit()\n",
        "\n",
        "    # Crop the saved image and add the year label\n",
        "    with Image.open(filename) as img:\n",
        "        # Define crop coordinates (left, upper, right, lower)\n",
        "        # Adjust these values as needed\n",
        "        cropped_img = img.crop((100, 100, 700, 500))\n",
        "\n",
        "        # Add the year label to the cropped image\n",
        "        draw = ImageDraw.Draw(cropped_img)\n",
        "        font = ImageFont.load_default()\n",
        "        draw.text((20, 20), str(year), font=font, fill=\"black\")\n",
        "\n",
        "        cropped_img.save(filename)\n",
        "\n",
        "maps = []\n",
        "\n",
        "for year in range(2000, 2024):\n",
        "    m = folium.Map(location=[18, 1.5], zoom_start=5, tiles='Stamen Terrain')\n",
        "    img_path = f'/content/NDVI_{year}.tif'\n",
        "    add_geotiff_to_map(m, img_path, colormap)\n",
        "    maps.append(m)\n",
        "    save_folium_map_as_image(m, f'NDVI_{year}.png', year)\n",
        "\n",
        "\n"
      ]
    },
    {
      "cell_type": "markdown",
      "source": [
        "**CREATE THE GIF**"
      ],
      "metadata": {
        "id": "Mnm4B7gFPuGk"
      }
    },
    {
      "cell_type": "code",
      "source": [
        "\n",
        "\n",
        "# Directory where the images are saved\n",
        "image_dir = '/content/'\n",
        "\n",
        "# List to store the images\n",
        "images = []\n",
        "\n",
        "\n",
        "# Loop through each year and read the images\n",
        "for year in range(2000, 2024):\n",
        "    image_path = os.path.join(image_dir, f'NDVI_{year}.png')\n",
        "\n",
        "    # Open the image using PIL\n",
        "    img = Image.open(image_path)\n",
        "\n",
        "    # Add the year label to the image\n",
        "    draw = ImageDraw.Draw(img)\n",
        "    font = ImageFont.load_default()\n",
        "    draw.text((20, 20), str(year), font=font, fill=\"black\")\n",
        "\n",
        "    # Append to the images list\n",
        "    images.append(img)\n",
        "\n",
        "# Create the GIF\n",
        "out_gif_path = os.path.join(image_dir, 'NDVI_timelapse.gif')\n",
        "images[0].save(out_gif_path, save_all=True, append_images=images[1:], loop=0, duration=1000)\n"
      ],
      "metadata": {
        "id": "SQyw_UZv9n-y"
      },
      "execution_count": null,
      "outputs": []
    }
  ],
  "metadata": {
    "accelerator": "GPU",
    "colab": {
      "provenance": []
    },
    "kernelspec": {
      "display_name": "Python 3",
      "name": "python3"
    },
    "language_info": {
      "name": "python"
    }
  },
  "nbformat": 4,
  "nbformat_minor": 0
}